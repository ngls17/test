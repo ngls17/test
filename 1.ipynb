{
"cells": [
{
"cell_type": "code",
"execution_count": 1,
"metadata": {},
"outputs": [],
"source": [
"import sys, time, matplotlib.pyplot as plt, numpy as np\n",
"from PyQt5.QtWidgets import QMainWindow, QApplication, QFileDialog\n",
"from PyQt5 import uic\n",
"from PyQt5 import QtCore, QtGui, QtWidgets\n",
"from PyQt5.QtWidgets import QApplication, QWidget, QLabel\n",
"from PyQt5.QtGui import QIcon, QPixmap\n",
"from functools import partial"
]
},
{
"cell_type": "code",
"execution_count": 2,
"metadata": {},
"outputs": [],
"source": [
"def normal(p):\n",
" p_ = []\n",
" for x in p:\n",
" x = np.array(x)\n",
" p_.append(x / x.sum())\n",
" return p_\n",
"\n",
"#оценки экспертов для первого участка\n",
"p1 = [[.5,.3,.2,.1],\n",
" [.8,.8,.1,.1],\n",
" [.5,.8,.3,.1],\n",
" [.9,.1,.1,.1],\n",
" [.1,.5,.8,.8],\n",
"\n",
" [.2,.2,.7,.8],\n",
" [.1,.5,.8,.3],\n",
" [.2,.2,.5,.7],\n",
" [.7,.8,.3,.2],\n",
" [.8,.5]]\n",
"#оценки экспертов для второго участка\n",
"p2 = [[.1,.2,.8,.8],\n",
" [.1,.1,.3,.9],\n",
" [.2,.2,.8,.7],\n",
" [.1,.2,.9,.7],\n",
" [.8,.2,.1,.1],\n",
"\n",
" [.5,.8,.2,.2],\n",
" [.9,.1,.1,.1],\n",
" [.8,.5,.2,.1],\n",
" [.8,.8,.3,.1],\n",
" [.2,.8]]\n",
"\n",
"p1=normal(p1)\n",
"p2=normal(p2)"
]
},
{
"cell_type": "code",
"execution_count": 12,
"metadata": {},
"outputs": [
{
"data": {
"text/plain": [
"0"
]
},
"execution_count": 12,
"metadata": {},
"output_type": "execute_result"
},
{
"data": {
"text/plain": [
"<Figure size 216x216 with 0 Axes>"
]
},
"metadata": {},
"output_type": "display_data"
},
{
"data": {
"text/plain": [
"<Figure size 216x216 with 0 Axes>"
]
},
"metadata": {},
"output_type": "display_data"
},
{
"data": {
"text/plain": [
"<Figure size 216x216 with 0 Axes>"
]
},
"metadata": {},
"output_type": "display_data"
},
{
"data": {
"text/plain": [
"<Figure size 216x216 with 0 Axes>"
]
},
"metadata": {},
"output_type": "display_data"
},
{
"data": {
"text/plain": [
"<Figure size 216x216 with 0 Axes>"
]
},
"metadata": {},
"output_type": "display_data"
},
{
"data": {
"text/plain": [
"<Figure size 216x216 with 0 Axes>"
]
},
"metadata": {},
"output_type": "display_data"
},
{
"data": {
"text/plain": [
"<Figure size 216x216 with 0 Axes>"
]
},
"metadata": {},
"output_type": "display_data"
},
{
"data": {
"text/plain": [
"<Figure size 216x216 with 0 Axes>"
]
},
"metadata": {},
"output_type": "display_data"
},
{
"data": {
"text/plain": [
"<Figure size 216x216 with 0 Axes>"
]
},
"metadata": {},
"output_type": "display_data"
},
{
"data": {
"text/plain": [
"<Figure size 216x216 with 0 Axes>"
]
},
"metadata": {},
"output_type": "display_data"
},
{
"data": {
"text/plain": [
"<Figure size 216x216 with 0 Axes>"
]
},
"metadata": {},
"output_type": "display_data"
},
{
"data": {
"text/plain": [
"<Figure size 216x216 with 0 Axes>"
]
},
"metadata": {},
"output_type": "display_data"
},
{
"data": {
"text/plain": [
"<Figure size 216x216 with 0 Axes>"
]
},
"metadata": {},
"output_type": "display_data"
},
{
"data": {
"text/plain": [
"<Figure size 216x216 with 0 Axes>"
]
},
"metadata": {},
"output_type": "display_data"
},
{
"data": {
"text/plain": [
"<Figure size 216x216 with 0 Axes>"
]
},
"metadata": {},
"output_type": "display_data"
},
{
"data": {
"text/plain": [
"<Figure size 216x216 with 0 Axes>"
]
},
"metadata": {},
"output_type": "display_data"
},
{
"data": {
"text/plain": [
"<Figure size 216x216 with 0 Axes>"
]
},
"metadata": {},
"output_type": "display_data"
},
{
"data": {
"text/plain": [
"<Figure size 216x216 with 0 Axes>"
]
},
"metadata": {},
"output_type": "display_data"
},
{
"data": {
"text/plain": [
"<Figure size 216x216 with 0 Axes>"
]
},
"metadata": {},
"output_type": "display_data"
},
{
"data": {
"text/plain": [
"<Figure size 216x216 with 0 Axes>"
]
},
"metadata": {},
"output_type": "display_data"
}
],
"source": [
"form_class = uic.loadUiType(\"untitled.ui\")[0] \n",
"\n",
"class Window(QMainWindow, form_class):\n",
" \n",
" file_path = \"data.txt\"\n",
" tabs = []\n",
" alternative=[['Низький', 'Середній', 'Підвищений' , 'Високий'],['Незначний','Помірний','Відносно високий','Високий'],\n",
" ['Незначний','Помірний','Високий','Вельми високий'],['Відсутній (відстань понад 50 м)',\n",
" 'Незначний (відстань 20 – 50 м)', 'Впливовий (відстань 10 – 20 м)','Загрозливий (відстань ближче 10 м)'],\n",
" ['Невивітрилі глини','Техногенні відклади','Делювіальні глинисті ґрунти','Просідні ґрунти'],\n",
" ['Дуже міцні ґрунтові основи','Міцні','Ґрунти середньої міцності','Відносно міцні ґрунти'],\n",
" ['Водоносні горизонти у P-N1np','Глибина залягання ґрунтових вод > 3 м','Глибина залягання ґрунтових вод < 3 м',\n",
" 'Наявні підтоплені ділянки з РГВ до 1м'],\n",
" ['Пласкі ділянки надзаплавних терас','Слабко нахилені поверхні надзаплавних терас', 'Долини малих річок', \n",
" 'Зсувонебезпечні ділянки схилів'],\n",
" ['Відсутні','Процеси застабілізовані','Прояв зсувних зміщень незначних об’ємів', 'Активний прояв просідання'],\n",
" ['Відкриті','Підземні']]\n",
" title=['Рівень динамічного навантаження','Показник статичного навантаження від поверхневої забудови',\n",
" 'Показник статичного навантаження оточуючого ґрунтового масиву','Вплив існуючих підземних об’єктів',\n",
" 'Генетичний тип та літологічний склад ґрунтів',' Розрахунковий опір грунту','Вплив водоносних горизонтів і верховодки',\n",
" 'Тип рельєфу і морфометрія','Інженерно-геологічні процеси','Геотехнології будівництва підземних споруд']\n",
"\n",
" def __init__(self, parent=None):\n",
" \n",
" QMainWindow.__init__(self, parent)\n",
" \n",
" self.setupUi(self)\n",
" \n",
" self.tabWidget = QtWidgets.QTabWidget(self.centralwidget)\n",
" \n",
" self.tabWidget.setGeometry(QtCore.QRect(10, 60, 612, 341))\n",
" \n",
" self.tabWidget.setObjectName(\"tabWidget\")\n",
" \n",
"\n",
" def click(self):\n",
" options = QFileDialog.Options()\n",
" fileName, _ = QFileDialog.getOpenFileName(self,\"QFileDialog.getOpenFileName()\", \"\",\"All Files (*)\", options=options)\n",
" if fileName:\n",
" self.file_path = fileName\n",
" \n",
" def refresh(self, tabs):\n",
" n=len(tabs)\n",
" for i in range(1,n+1):\n",
" to_del = tabs[n-i]\n",
" tabs.remove(to_del)\n",
" to_del.deleteLater()\n",
" \n",
" def exe(self,p): \n",
" \n",
" if len(self.tabs)>0:\n",
" self.refresh(self.tabs)\n",
" \n",
" for i in range(len(p)):\n",
" new_tab = QtWidgets.QWidget()\n",
" tab = QtWidgets.QLabel(new_tab)\n",
" plt.figure(figsize=(3,3))\n",
" plt.pie(p[i],labels=self.alternative[i],startangle=90)\n",
" plt.title(self.title[i])\n",
"\n",
" plt.savefig(\"fig.png\",bbox_inches='tight')\n",
" pixmap = QPixmap('fig.png')\n",
" tab.setPixmap(pixmap)\n",
" self.tabWidget.addTab(new_tab, str(i))\n",
" self.tabs.append(new_tab)\n",
" plt.clf()\n",
" \n",
"\n",
"app = 0\n",
"app = QApplication(sys.argv)\n",
"myWindow = Window()\n",
"myWindow.show()\n",
"myWindow.Button1.clicked.connect(partial(myWindow.exe,p1))\n",
"myWindow.Button2.clicked.connect(partial(myWindow.exe,p2))\n",
"app.exec_()"
]
},
{
"cell_type": "code",
"execution_count": null,
"metadata": {},
"outputs": [],
"source": []
}
],
"metadata": {
"kernelspec": {
"display_name": "Python 3",
"language": "python",
"name": "python3"
},
"language_info": {
"codemirror_mode": {
"name": "ipython",
"version": 3
},
"file_extension": ".py",
"mimetype": "text/x-python",
"name": "python",
"nbconvert_exporter": "python",
"pygments_lexer": "ipython3",
"version": "3.7.3"
}
},
"nbformat": 4,
"nbformat_minor": 2
}